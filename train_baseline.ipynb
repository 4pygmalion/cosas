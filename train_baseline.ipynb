{
 "cells": [
  {
   "cell_type": "code",
   "execution_count": 1,
   "metadata": {},
   "outputs": [],
   "source": [
    "%load_ext autoreload\n",
    "%autoreload 2"
   ]
  },
  {
   "cell_type": "code",
   "execution_count": 2,
   "metadata": {},
   "outputs": [
    {
     "name": "stderr",
     "output_type": "stream",
     "text": [
      "/home/heon/anaconda3/envs/cosas/lib/python3.11/site-packages/tqdm/auto.py:21: TqdmWarning: IProgress not found. Please update jupyter and ipywidgets. See https://ipywidgets.readthedocs.io/en/stable/user_install.html\n",
      "  from .autonotebook import tqdm as notebook_tqdm\n"
     ]
    }
   ],
   "source": [
    "import os\n",
    "import random\n",
    "\n",
    "import mlflow\n",
    "import segmentation_models_pytorch as smp\n",
    "import torch\n",
    "from sklearn.model_selection import train_test_split\n",
    "from torchvision.transforms import Compose, Resize, ToTensor, ToPILImage\n",
    "\n",
    "\n",
    "from cosas.tracking import get_experiment\n",
    "from cosas.paths import DATA_DIR\n",
    "from cosas.data_model import COSASData, Scanncers\n",
    "from cosas.datasets import COSASdataset\n",
    "from cosas.misc import set_seed, train_val_split"
   ]
  },
  {
   "cell_type": "code",
   "execution_count": 3,
   "metadata": {},
   "outputs": [],
   "source": [
    "import albumentations as A\n",
    "from albumentations.pytorch.transforms import ToTensorV2\n",
    "\n",
    "DEVICE = \"cuda\"\n",
    "# experiment = get_experiment()\n",
    "set_seed(42)  # TODO\n",
    "\n",
    "cosas_data = COSASData(os.path.join(DATA_DIR, \"task2\"))\n",
    "cosas_data.load()\n",
    "\n",
    "(train_images, train_masks), (val_images, val_masks), (test_images, test_masks) = (\n",
    "    train_val_split(cosas_data, train_val_test=(0.6, 0.2, 0.2))\n",
    ")\n",
    "\n",
    "model = smp.FPN(\n",
    "    encoder_name=\"efficientnet-b0\",\n",
    "    encoder_weights=\"imagenet\",\n",
    "    classes=1,\n",
    "    activation=None,\n",
    ").to(DEVICE)\n"
   ]
  },
  {
   "cell_type": "code",
   "execution_count": 4,
   "metadata": {},
   "outputs": [
    {
     "name": "stderr",
     "output_type": "stream",
     "text": [
      " |################################| train | EPOCH 0: [17/18] | eta:1 | total_loss: 0.9836 | f1: 0.6237|acc: 0.6761|sen: 0.6764|spec: 0.6779|auroc: 0.7458|prauc: 0.7231|iou: 0.4797|dice: 0.6237\n",
      " |################################| validation | EPOCH 0: [5/6] | eta:1 | total_loss: 2.0791 | f1: 0.0262|acc: 0.4877|sen: 0.0138|spec: 0.9815|auroc: 0.5028|prauc: 0.4914|iou: 0.0134|dice: 0.0262\n",
      " |################################| train | EPOCH 1: [17/18] | eta:1 | total_loss: 0.6149 | f1: 0.7573|acc: 0.7564|sen: 0.7857|spec: 0.7606|auroc: 0.8613|prauc: 0.8797|iou: 0.6186|dice: 0.7573\n",
      " |################################| validation | EPOCH 1: [5/6] | eta:1 | total_loss: 1.0344 | f1: 0.4133|acc: 0.5027|sen: 0.3805|spec: 0.6508|auroc: 0.5213|prauc: 0.5177|iou: 0.2717|dice: 0.4133\n",
      " |################################| train | EPOCH 2: [17/18] | eta:1 | total_loss: 0.6158 | f1: 0.7081|acc: 0.7278|sen: 0.7294|spec: 0.7378|auroc: 0.8471|prauc: 0.8534|iou: 0.5615|dice: 0.7081\n",
      " |################################| validation | EPOCH 2: [5/6] | eta:1 | total_loss: 2.1588 | f1: 0.5413|acc: 0.4310|sen: 0.6728|spec: 0.1790|auroc: 0.3731|prauc: 0.4273|iou: 0.3760|dice: 0.5413\n",
      " |################################| train | EPOCH 3: [17/18] | eta:1 | total_loss: 0.6049 | f1: 0.7274|acc: 0.7654|sen: 0.7918|spec: 0.8150|auroc: 0.8962|prauc: 0.8899|iou: 0.5916|dice: 0.7274\n",
      " |################################| validation | EPOCH 3: [5/6] | eta:1 | total_loss: 2.9913 | f1: 0.6736|acc: 0.5091|sen: 0.9993|spec: 0.0004|auroc: 0.5384|prauc: 0.5408|iou: 0.5090|dice: 0.6736\n",
      " |################################| train | EPOCH 4: [17/18] | eta:1 | total_loss: 0.5048 | f1: 0.7765|acc: 0.7926|sen: 0.8366|spec: 0.7766|auroc: 0.8954|prauc: 0.8895|iou: 0.6531|dice: 0.7765\n",
      " |################################| validation | EPOCH 4: [5/6] | eta:1 | total_loss: 1.7532 | f1: 0.5992|acc: 0.5042|sen: 0.7437|spec: 0.2770|auroc: 0.5342|prauc: 0.5409|iou: 0.4283|dice: 0.5992\n",
      " |################################| train | EPOCH 5: [17/18] | eta:1 | total_loss: 0.5137 | f1: 0.7645|acc: 0.7821|sen: 0.8219|spec: 0.8262|auroc: 0.9146|prauc: 0.8869|iou: 0.6470|dice: 0.7645\n",
      " |################################| validation | EPOCH 5: [5/6] | eta:1 | total_loss: 1.9015 | f1: 0.6719|acc: 0.5113|sen: 0.9860|spec: 0.0228|auroc: 0.6157|prauc: 0.5935|iou: 0.5069|dice: 0.6719\n",
      " |################################| train | EPOCH 6: [17/18] | eta:1 | total_loss: 0.4113 | f1: 0.8095|acc: 0.8209|sen: 0.8131|spec: 0.8515|auroc: 0.9034|prauc: 0.9089|iou: 0.6942|dice: 0.8095\n",
      " |################################| validation | EPOCH 6: [5/6] | eta:1 | total_loss: 3.2993 | f1: 0.6642|acc: 0.4991|sen: 0.9767|spec: 0.0069|auroc: 0.5721|prauc: 0.5741|iou: 0.4977|dice: 0.6642\n",
      " |################################| train | EPOCH 7: [17/18] | eta:1 | total_loss: 0.4445 | f1: 0.7947|acc: 0.8349|sen: 0.8476|spec: 0.8518|auroc: 0.9300|prauc: 0.8879|iou: 0.6849|dice: 0.7947\n",
      " |################################| validation | EPOCH 7: [5/6] | eta:1 | total_loss: 1.2429 | f1: 0.6867|acc: 0.5906|sen: 0.8616|spec: 0.3299|auroc: 0.6459|prauc: 0.6555|iou: 0.5331|dice: 0.6867\n",
      " |################################| train | EPOCH 8: [17/18] | eta:1 | total_loss: 0.4709 | f1: 0.7053|acc: 0.7810|sen: 0.7611|spec: 0.8484|auroc: 0.9059|prauc: 0.8452|iou: 0.5901|dice: 0.7053\n",
      " |################################| validation | EPOCH 8: [5/6] | eta:1 | total_loss: 1.1988 | f1: 0.4568|acc: 0.4926|sen: 0.4437|spec: 0.5808|auroc: 0.5843|prauc: 0.6055|iou: 0.3007|dice: 0.4568\n",
      " |################################| test | EPOCH 15: [5/6] | eta:1 | total_loss: 0.9030 | f1: 0.4435|acc: 0.5677|sen: 0.4018|spec: 0.7637|auroc: 0.7250|prauc: 0.6946|iou: 0.2952|dice: 0.4435\n",
      "\u001b[?25h"
     ]
    }
   ],
   "source": [
    "import torch\n",
    "from torch.utils.data import DataLoader\n",
    "from cosas.metrics import calculate_metrics, Metrics, AverageMeter\n",
    "from cosas.trainer import BinaryClassifierTrainer\n",
    "from cosas.tracking import TRACKING_URI, get_experiment\n",
    "transform = A.Compose(\n",
    "    [\n",
    "        A.RandomCrop(height=224, width=224, p=1),\n",
    "        A.Resize(224, 224),\n",
    "        A.HorizontalFlip(p=0.5),\n",
    "        A.VerticalFlip(p=0.5),\n",
    "        # TODO: RandomRotation90 추가\n",
    "        A.Normalize(mean=(0.485, 0.456, 0.406), std=(0.229, 0.224, 0.225)),\n",
    "        ToTensorV2(),\n",
    "    ]    \n",
    ")\n",
    "\n",
    "train_dataset = COSASdataset(train_images, train_masks, transform)\n",
    "train_dataloader = DataLoader(train_dataset, batch_size=4)\n",
    "\n",
    "test_transform = A.Compose(\n",
    "    [\n",
    "        A.Resize(224, 224),\n",
    "        A.Normalize(mean=(0.485, 0.456, 0.406), std=(0.229, 0.224, 0.225)),\n",
    "        ToTensorV2(),\n",
    "    ]\n",
    ")\n",
    "val_dataloader= DataLoader(\n",
    "    COSASdataset(val_images, val_masks, test_transform), \n",
    "    batch_size=4\n",
    ")\n",
    "num_epochs = 2\n",
    "n_steps = len(train_dataloader)\n",
    "trainer = BinaryClassifierTrainer(\n",
    "    model, \n",
    "    torch.nn.functional.binary_cross_entropy_with_logits, \n",
    "    optimizer = torch.optim.Adam(model.parameters(), lr=0.001)\n",
    ")\n",
    "\n",
    "mlflow.set_tracking_uri(TRACKING_URI)\n",
    "experiment = get_experiment(\"cosas\")\n",
    "\n",
    "with mlflow.start_run(experiment_id=experiment.experiment_id, run_name=\"test_run\") as run:\n",
    "    trainer.train(\n",
    "        train_dataloader,\n",
    "        val_dataloader,\n",
    "        10,\n",
    "        7,\n",
    "    )\n",
    "    mlflow.pytorch.log_model(trainer.model, \"model\")\n",
    "    \n",
    "    \n",
    "    test_dataloader = DataLoader(\n",
    "        COSASdataset(test_images, test_masks, test_transform), \n",
    "        batch_size=4,\n",
    "        shuffle=False\n",
    "    )\n",
    "    test_loss, test_metrics = trainer.run_epoch(\"test\", epoch=15, dataloader=test_dataloader)\n",
    "    mlflow.log_metric(\"test_loss\", test_loss.avg)\n",
    "    mlflow.log_metrics(test_metrics.to_dict(prefix=\"test_\"))    "
   ]
  }
 ],
 "metadata": {
  "kernelspec": {
   "display_name": "cosas",
   "language": "python",
   "name": "python3"
  },
  "language_info": {
   "codemirror_mode": {
    "name": "ipython",
    "version": 3
   },
   "file_extension": ".py",
   "mimetype": "text/x-python",
   "name": "python",
   "nbconvert_exporter": "python",
   "pygments_lexer": "ipython3",
   "version": "3.11.9"
  }
 },
 "nbformat": 4,
 "nbformat_minor": 2
}
