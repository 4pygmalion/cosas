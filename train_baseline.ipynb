{
 "cells": [
  {
   "cell_type": "code",
   "execution_count": 1,
   "metadata": {},
   "outputs": [
    {
     "name": "stderr",
     "output_type": "stream",
     "text": [
      "/home/heon/anaconda3/envs/cosas/lib/python3.11/site-packages/tqdm/auto.py:21: TqdmWarning: IProgress not found. Please update jupyter and ipywidgets. See https://ipywidgets.readthedocs.io/en/stable/user_install.html\n",
      "  from .autonotebook import tqdm as notebook_tqdm\n"
     ]
    }
   ],
   "source": [
    "import os\n",
    "import random\n",
    "\n",
    "import mlflow\n",
    "import segmentation_models_pytorch as smp\n",
    "from sklearn.model_selection import train_test_split\n",
    "from torchvision.transforms import Compose, Resize, ToTensor, ToPILImage\n",
    "\n",
    "\n",
    "from cosas.tracking import get_experiment\n",
    "\n",
    "from cosas.paths import DATA_DIR\n",
    "from cosas.data_model import COSASData, Scanncers\n",
    "from cosas.datasets import COSASdataset\n",
    "from cosas.misc import set_seed, train_val_split"
   ]
  },
  {
   "cell_type": "code",
   "execution_count": 4,
   "metadata": {},
   "outputs": [],
   "source": [
    "import albumentations as A\n",
    "from albumentations.pytorch.transforms import ToTensorV2\n",
    "\n",
    "DEVICE = \"cpu\"\n",
    "# experiment = get_experiment()\n",
    "set_seed(42)  # TODO\n",
    "\n",
    "cosas_data = COSASData(os.path.join(DATA_DIR, \"task2\"))\n",
    "cosas_data.load()\n",
    "\n",
    "(train_images, train_masks), (val_images, val_masks), (test_images, test_masks) = (\n",
    "    train_val_split(cosas_data, train_val_test=(0.6, 0.2, 0.2))\n",
    ")\n",
    "\n",
    "model = smp.FPN(\n",
    "    encoder_name=\"efficientnet-b0\",\n",
    "    encoder_weights=\"imagenet\",\n",
    "    classes=1,\n",
    "    activation=None,\n",
    ").to(DEVICE)\n"
   ]
  },
  {
   "cell_type": "code",
   "execution_count": 11,
   "metadata": {},
   "outputs": [
    {
     "name": "stdout",
     "output_type": "stream",
     "text": [
      "Epoch 1/2, Step(0/18): Loss: 0.5385966300964355\n",
      "Epoch 1/2, Step(1/18): Loss: 0.7404068112373352\n",
      "Epoch 1/2, Step(2/18): Loss: 0.4401918053627014\n",
      "Epoch 1/2, Step(3/18): Loss: 0.7889130115509033\n",
      "Epoch 1/2, Step(4/18): Loss: 0.4913847744464874\n",
      "Epoch 1/2, Step(5/18): Loss: 0.38508084416389465\n",
      "Epoch 1/2, Step(6/18): Loss: 1.963456392288208\n",
      "Epoch 1/2, Step(7/18): Loss: 1.784023404121399\n",
      "Epoch 1/2, Step(8/18): Loss: 0.6622202396392822\n",
      "Epoch 1/2, Step(9/18): Loss: 0.24942857027053833\n",
      "Epoch 1/2, Step(10/18): Loss: 0.4482574760913849\n",
      "Epoch 1/2, Step(11/18): Loss: 0.816438615322113\n",
      "Epoch 1/2, Step(12/18): Loss: 0.605463981628418\n",
      "Epoch 1/2, Step(13/18): Loss: 0.22888633608818054\n",
      "Epoch 1/2, Step(14/18): Loss: 0.8708387017250061\n",
      "Epoch 1/2, Step(15/18): Loss: 0.3965553641319275\n",
      "Epoch 1/2, Step(16/18): Loss: 0.2841457426548004\n",
      "Epoch 1/2, Step(17/18): Loss: 0.5831342935562134\n",
      "Epoch 2/2, Step(0/18): Loss: 0.30878451466560364\n",
      "Epoch 2/2, Step(1/18): Loss: 0.2993624210357666\n",
      "Epoch 2/2, Step(2/18): Loss: 0.9153321981430054\n",
      "Epoch 2/2, Step(3/18): Loss: 1.5358986854553223\n",
      "Epoch 2/2, Step(4/18): Loss: 0.5843847393989563\n",
      "Epoch 2/2, Step(5/18): Loss: 0.3850138783454895\n",
      "Epoch 2/2, Step(6/18): Loss: 0.18814195692539215\n",
      "Epoch 2/2, Step(7/18): Loss: 0.5561901926994324\n",
      "Epoch 2/2, Step(8/18): Loss: 0.4421955943107605\n",
      "Epoch 2/2, Step(9/18): Loss: 0.6229283809661865\n",
      "Epoch 2/2, Step(10/18): Loss: 0.8389302492141724\n",
      "Epoch 2/2, Step(11/18): Loss: 0.46280190348625183\n",
      "Epoch 2/2, Step(12/18): Loss: 1.019515037536621\n",
      "Epoch 2/2, Step(13/18): Loss: 0.33549144864082336\n",
      "Epoch 2/2, Step(14/18): Loss: 0.5170431137084961\n",
      "Epoch 2/2, Step(15/18): Loss: 0.11071401834487915\n",
      "Epoch 2/2, Step(16/18): Loss: 0.28954270482063293\n",
      "Epoch 2/2, Step(17/18): Loss: 1.3273875713348389\n"
     ]
    }
   ],
   "source": [
    "import torch\n",
    "from torch.utils.data import DataLoader\n",
    "\n",
    "loss_fn = torch.nn.BCEWithLogitsLoss()\n",
    "optimizer = torch.optim.Adam(model.parameters(), lr=0.001)\n",
    "\n",
    "transform = A.Compose(\n",
    "    [\n",
    "        A.RandomCrop(height=224, width=224, p=1),\n",
    "        A.Resize(224, 224),\n",
    "        A.HorizontalFlip(p=0.5),\n",
    "        A.VerticalFlip(p=0.5),\n",
    "        A.Normalize(mean=(0.485, 0.456, 0.406), std=(0.229, 0.224, 0.225)),\n",
    "        ToTensorV2(),\n",
    "    ]    \n",
    ")\n",
    "\n",
    "\n",
    "train_dataset = COSASdataset(train_images, train_masks, transform)\n",
    "train_dataloader = DataLoader(train_dataset, batch_size=4)\n",
    "num_epochs = 2\n",
    "n_steps = len(train_dataloader)\n",
    "for epoch in range(num_epochs):\n",
    "    model.train()\n",
    "    epoch_loss = 0\n",
    "\n",
    "    \n",
    "    for step, (images, masks) in enumerate(train_dataloader):\n",
    "        images = images.to(DEVICE)\n",
    "        masks = masks.to(DEVICE).unsqueeze(1).float()\n",
    "\n",
    "        # Forward pass\n",
    "        outputs = model(images)\n",
    "        \n",
    "        # Compute loss\n",
    "        loss = loss_fn(outputs, masks)\n",
    "        \n",
    "        # Backward pass and optimization\n",
    "        optimizer.zero_grad()\n",
    "        loss.backward()\n",
    "        optimizer.step()\n",
    "\n",
    "        epoch_loss += loss.item()\n",
    "\n",
    "        print(f\"Epoch {epoch+1}/{num_epochs}, Step({step}/{n_steps}): Loss: {loss}\")"
   ]
  }
 ],
 "metadata": {
  "kernelspec": {
   "display_name": "cosas",
   "language": "python",
   "name": "python3"
  },
  "language_info": {
   "codemirror_mode": {
    "name": "ipython",
    "version": 3
   },
   "file_extension": ".py",
   "mimetype": "text/x-python",
   "name": "python",
   "nbconvert_exporter": "python",
   "pygments_lexer": "ipython3",
   "version": "3.11.9"
  }
 },
 "nbformat": 4,
 "nbformat_minor": 2
}
