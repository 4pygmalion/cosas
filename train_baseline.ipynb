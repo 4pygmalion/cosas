{
 "cells": [
  {
   "cell_type": "code",
   "execution_count": 87,
   "metadata": {},
   "outputs": [
    {
     "name": "stdout",
     "output_type": "stream",
     "text": [
      "The autoreload extension is already loaded. To reload it, use:\n",
      "  %reload_ext autoreload\n"
     ]
    }
   ],
   "source": [
    "%load_ext autoreload\n",
    "%autoreload 2"
   ]
  },
  {
   "cell_type": "code",
   "execution_count": 88,
   "metadata": {},
   "outputs": [],
   "source": [
    "import os\n",
    "\n",
    "import mlflow\n",
    "import segmentation_models_pytorch as smp\n",
    "from torchvision.transforms import ToPILImage\n",
    "\n",
    "from cosas.tracking import get_experiment\n",
    "from cosas.paths import DATA_DIR\n",
    "from cosas.data_model import COSASData, Scanncers\n",
    "from cosas.datasets import Patchdataset\n",
    "from cosas.misc import set_seed, train_val_split"
   ]
  },
  {
   "cell_type": "code",
   "execution_count": 89,
   "metadata": {},
   "outputs": [],
   "source": [
    "import albumentations as A\n",
    "from albumentations.pytorch.transforms import ToTensorV2\n",
    "\n",
    "DEVICE = \"cuda\"\n",
    "# experiment = get_experiment()\n",
    "set_seed(42)  # TODO\n",
    "\n",
    "cosas_data = COSASData(os.path.join(DATA_DIR, \"task2\"))\n",
    "cosas_data.load()\n",
    "\n",
    "(train_images, train_masks), (val_images, val_masks), (test_images, test_masks) = (\n",
    "    train_val_split(cosas_data, train_val_test=(0.6, 0.2, 0.2))\n",
    ")\n",
    "\n",
    "model = smp.FPN(\n",
    "    encoder_name=\"efficientnet-b0\",\n",
    "    encoder_weights=\"imagenet\",\n",
    "    classes=1,\n",
    "    activation=None,\n",
    ").to(DEVICE)\n"
   ]
  },
  {
   "cell_type": "markdown",
   "metadata": {},
   "source": [
    "Wholedataset"
   ]
  },
  {
   "cell_type": "code",
   "execution_count": 90,
   "metadata": {},
   "outputs": [
    {
     "ename": "ValueError",
     "evalue": "too many values to unpack (expected 3)",
     "output_type": "error",
     "traceback": [
      "\u001b[0;31m---------------------------------------------------------------------------\u001b[0m",
      "\u001b[0;31mValueError\u001b[0m                                Traceback (most recent call last)",
      "Cell \u001b[0;32mIn[90], line 7\u001b[0m\n\u001b[1;32m      4\u001b[0m wholesize_ds \u001b[38;5;241m=\u001b[39m WholeSizeDataset(train_images, train_masks)\n\u001b[1;32m      5\u001b[0m image, mask \u001b[38;5;241m=\u001b[39m wholesize_ds[\u001b[38;5;241m0\u001b[39m]\n\u001b[0;32m----> 7\u001b[0m patches \u001b[38;5;241m=\u001b[39m \u001b[43mwholesize_ds\u001b[49m\u001b[38;5;241;43m.\u001b[39;49m\u001b[43m_tesellation\u001b[49m\u001b[43m(\u001b[49m\u001b[43mimage\u001b[49m\u001b[43m)\u001b[49m\n\u001b[1;32m      8\u001b[0m batch \u001b[38;5;241m=\u001b[39m patches\u001b[38;5;241m.\u001b[39mshape[\u001b[38;5;241m0\u001b[39m]\n\u001b[1;32m     10\u001b[0m fig, ax \u001b[38;5;241m=\u001b[39m plt\u001b[38;5;241m.\u001b[39msubplots(figsize\u001b[38;5;241m=\u001b[39m(\u001b[38;5;241m6\u001b[39m, \u001b[38;5;241m6\u001b[39m), nrows\u001b[38;5;241m=\u001b[39m\u001b[38;5;241m6\u001b[39m, ncols\u001b[38;5;241m=\u001b[39m\u001b[38;5;241m7\u001b[39m)\n",
      "File \u001b[0;32m~/dev/cosas/cosas/datasets.py:79\u001b[0m, in \u001b[0;36mWholeSizeDataset._tesellation\u001b[0;34m(self, image_tensor, size)\u001b[0m\n\u001b[1;32m     70\u001b[0m \u001b[38;5;250m\u001b[39m\u001b[38;5;124;03m\"\"\"약 1400x1400의 이미지를 패딩하여 224의 정수배로 만들어, grid로\u001b[39;00m\n\u001b[1;32m     71\u001b[0m \u001b[38;5;124;03mnon overlapping 패치를 만듬\u001b[39;00m\n\u001b[1;32m     72\u001b[0m \n\u001b[1;32m     73\u001b[0m \u001b[38;5;124;03mReturns\u001b[39;00m\n\u001b[1;32m     74\u001b[0m \u001b[38;5;124;03m    pathces (torch.Tensor): shape (n_patches, c, patch_h, patch_w)\u001b[39;00m\n\u001b[1;32m     75\u001b[0m \u001b[38;5;124;03m\"\"\"\u001b[39;00m\n\u001b[1;32m     77\u001b[0m patch_w, patch_h \u001b[38;5;241m=\u001b[39m size\n\u001b[0;32m---> 79\u001b[0m padded_tensor: torch\u001b[38;5;241m.\u001b[39mTensor \u001b[38;5;241m=\u001b[39m \u001b[38;5;28;43mself\u001b[39;49m\u001b[38;5;241;43m.\u001b[39;49m\u001b[43m_pad\u001b[49m\u001b[43m(\u001b[49m\u001b[43mimage_tensor\u001b[49m\u001b[43m)\u001b[49m\n\u001b[1;32m     81\u001b[0m \u001b[38;5;28;01mreturn\u001b[39;00m (\n\u001b[1;32m     82\u001b[0m     padded_tensor\u001b[38;5;241m.\u001b[39munfold(\u001b[38;5;241m1\u001b[39m, patch_h, patch_h)\n\u001b[1;32m     83\u001b[0m     \u001b[38;5;241m.\u001b[39munfold(\u001b[38;5;241m2\u001b[39m, patch_w, patch_w)  \u001b[38;5;66;03m# (C, row, col, w, h)\u001b[39;00m\n\u001b[0;32m   (...)\u001b[0m\n\u001b[1;32m     86\u001b[0m     \u001b[38;5;241m.\u001b[39mpermute((\u001b[38;5;241m3\u001b[39m, \u001b[38;5;241m0\u001b[39m, \u001b[38;5;241m1\u001b[39m, \u001b[38;5;241m2\u001b[39m))  \u001b[38;5;66;03m# (N, C, W, H)\u001b[39;00m\n\u001b[1;32m     87\u001b[0m )\n",
      "File \u001b[0;32m~/dev/cosas/cosas/datasets.py:59\u001b[0m, in \u001b[0;36mWholeSizeDataset._pad\u001b[0;34m(self, image_tensor, size)\u001b[0m\n\u001b[1;32m     50\u001b[0m \u001b[38;5;28;01mdef\u001b[39;00m \u001b[38;5;21m_pad\u001b[39m(\n\u001b[1;32m     51\u001b[0m     \u001b[38;5;28mself\u001b[39m, image_tensor: torch\u001b[38;5;241m.\u001b[39mTensor, size: \u001b[38;5;28mtuple\u001b[39m \u001b[38;5;241m=\u001b[39m (\u001b[38;5;241m224\u001b[39m, \u001b[38;5;241m224\u001b[39m)\n\u001b[1;32m     52\u001b[0m ) \u001b[38;5;241m-\u001b[39m\u001b[38;5;241m>\u001b[39m torch\u001b[38;5;241m.\u001b[39mTensor:\n\u001b[1;32m     53\u001b[0m \u001b[38;5;250m    \u001b[39m\u001b[38;5;124;03m\"\"\"이미지 전체를 주어진 사이즈(size)의 정수배로 만듬\u001b[39;00m\n\u001b[1;32m     54\u001b[0m \n\u001b[1;32m     55\u001b[0m \u001b[38;5;124;03m    Params:\u001b[39;00m\n\u001b[1;32m     56\u001b[0m \u001b[38;5;124;03m        image_tensor (torch.Tensor): shape (C, W, H)\u001b[39;00m\n\u001b[1;32m     57\u001b[0m \u001b[38;5;124;03m    \"\"\"\u001b[39;00m\n\u001b[0;32m---> 59\u001b[0m     c, image_w, image_h \u001b[38;5;241m=\u001b[39m image_tensor\u001b[38;5;241m.\u001b[39msize()\n\u001b[1;32m     61\u001b[0m     patch_w, patch_h \u001b[38;5;241m=\u001b[39m size\n\u001b[1;32m     62\u001b[0m     pad_w \u001b[38;5;241m=\u001b[39m (patch_w \u001b[38;5;241m-\u001b[39m (image_w \u001b[38;5;241m%\u001b[39m patch_w)) \u001b[38;5;241m%\u001b[39m patch_w\n",
      "\u001b[0;31mValueError\u001b[0m: too many values to unpack (expected 3)"
     ]
    }
   ],
   "source": [
    "from matplotlib import pyplot as plt\n",
    "\n",
    "from cosas.datasets import WholeSizeDataset\n",
    "wholesize_ds = WholeSizeDataset(train_images, train_masks)\n",
    "image, mask = wholesize_ds[0]\n",
    "\n",
    "patches = wholesize_ds._tesellation(image)\n",
    "batch = patches.shape[0]\n",
    "\n",
    "fig, ax = plt.subplots(figsize=(6, 6), nrows=6, ncols=7)\n",
    "for n, i in enumerate(patches):\n",
    "    ax.flat[n].imshow(ToPILImage()(i))\n",
    "    ax.flat[n].axis(\"off\")\n",
    "\n",
    "plt.tight_layout()\n",
    "plt.show()"
   ]
  },
  {
   "cell_type": "code",
   "execution_count": 91,
   "metadata": {},
   "outputs": [
    {
     "name": "stderr",
     "output_type": "stream",
     "text": [
      " |################################| train | EPOCH 0: [17/18] | eta:1 | total_loss: 1.1124 | f1: 0.6079|acc: 0.6728|sen: 0.6811|spec: 0.6903|auroc: 0.7645|prauc: 0.7407|iou: 0.4641|dice: 0.6079\n",
      " |####                            | val | EPOCH 0: [2/24] | eta:76 | total_loss: 0.8181 | f1: 0.7319|acc: 0.7501|sen: 0.6442|spec: 0.8724|auroc: 0.8660|prauc: 0.8887|iou: 0.5912|dice: 0.7319/home/heon/anaconda3/envs/cosas/lib/python3.11/site-packages/sklearn/metrics/_classification.py:1531: UndefinedMetricWarning: Recall is ill-defined and being set to 0.0 due to no true samples. Use `zero_division` parameter to control this behavior.\n",
      "  _warn_prf(average, modifier, f\"{metric.capitalize()} is\", len(result))\n",
      "/home/heon/anaconda3/envs/cosas/lib/python3.11/site-packages/sklearn/metrics/_ranking.py:1030: UserWarning: No positive class found in y_true, recall is set to one for all thresholds.\n",
      "  warnings.warn(\n",
      " |########                        | val | EPOCH 0: [5/24] | eta:53 | total_loss: 0.9755 | f1: 0.5554|acc: 0.7563|sen: 0.4874|spec: 0.9187|auroc: 0.7208|prauc: 0.8276|iou: 0.4420|dice: 0.5554/home/heon/anaconda3/envs/cosas/lib/python3.11/site-packages/sklearn/metrics/_classification.py:1531: UndefinedMetricWarning: Recall is ill-defined and being set to 0.0 due to no true samples. Use `zero_division` parameter to control this behavior.\n",
      "  _warn_prf(average, modifier, f\"{metric.capitalize()} is\", len(result))\n",
      "/home/heon/anaconda3/envs/cosas/lib/python3.11/site-packages/sklearn/metrics/_ranking.py:1030: UserWarning: No positive class found in y_true, recall is set to one for all thresholds.\n",
      "  warnings.warn(\n",
      " |####################            | val | EPOCH 0: [14/24] | eta:23 | total_loss: 0.7989 | f1: 0.6171|acc: 0.7716|sen: 0.5628|spec: 0.8921|auroc: 0.7594|prauc: 0.8413|iou: 0.4948|dice: 0.6171/home/heon/anaconda3/envs/cosas/lib/python3.11/site-packages/sklearn/metrics/_classification.py:1531: UndefinedMetricWarning: Recall is ill-defined and being set to 0.0 due to no true samples. Use `zero_division` parameter to control this behavior.\n",
      "  _warn_prf(average, modifier, f\"{metric.capitalize()} is\", len(result))\n",
      "/home/heon/anaconda3/envs/cosas/lib/python3.11/site-packages/sklearn/metrics/_ranking.py:1030: UserWarning: No positive class found in y_true, recall is set to one for all thresholds.\n",
      "  warnings.warn(\n",
      " |########################        | val | EPOCH 0: [17/24] | eta:16 | total_loss: 0.8546 | f1: 0.5774|acc: 0.7701|sen: 0.5241|spec: 0.9042|auroc: 0.7288|prauc: 0.8288|iou: 0.4611|dice: 0.5774/home/heon/anaconda3/envs/cosas/lib/python3.11/site-packages/sklearn/metrics/_classification.py:1531: UndefinedMetricWarning: Recall is ill-defined and being set to 0.0 due to no true samples. Use `zero_division` parameter to control this behavior.\n",
      "  _warn_prf(average, modifier, f\"{metric.capitalize()} is\", len(result))\n",
      "/home/heon/anaconda3/envs/cosas/lib/python3.11/site-packages/sklearn/metrics/_ranking.py:1030: UserWarning: No positive class found in y_true, recall is set to one for all thresholds.\n",
      "  warnings.warn(\n",
      " |################################| val | EPOCH 0: [23/24] | eta:3 | total_loss: 0.7942 | f1: 0.5884|acc: 0.7770|sen: 0.5425|spec: 0.8970|auroc: 0.7328|prauc: 0.8294|iou: 0.4707|dice: 0.5884 \n",
      "\u001b[?25h/home/heon/anaconda3/envs/cosas/lib/python3.11/site-packages/_distutils_hack/__init__.py:11: UserWarning: Distutils was imported before Setuptools, but importing Setuptools also replaces the `distutils` module in `sys.modules`. This may lead to undesirable behaviors or errors. To avoid these issues, avoid using distutils directly, ensure that setuptools is installed in the traditional way (e.g. not an editable install), and/or make sure that setuptools is always imported before distutils.\n",
      "  warnings.warn(\n",
      "/home/heon/anaconda3/envs/cosas/lib/python3.11/site-packages/_distutils_hack/__init__.py:26: UserWarning: Setuptools is replacing distutils.\n",
      "  warnings.warn(\"Setuptools is replacing distutils.\")\n",
      " |#########                       | test | EPOCH 0: [6/24] | eta:50 | total_loss: 0.4006 | f1: 0.7973|acc: 0.8649|sen: 0.7767|spec: 0.9034|auroc: 0.9226|prauc: 0.8862|iou: 0.6743|dice: 0.7973/home/heon/anaconda3/envs/cosas/lib/python3.11/site-packages/sklearn/metrics/_classification.py:1531: UndefinedMetricWarning: Recall is ill-defined and being set to 0.0 due to no true samples. Use `zero_division` parameter to control this behavior.\n",
      "  _warn_prf(average, modifier, f\"{metric.capitalize()} is\", len(result))\n",
      "/home/heon/anaconda3/envs/cosas/lib/python3.11/site-packages/sklearn/metrics/_ranking.py:1030: UserWarning: No positive class found in y_true, recall is set to one for all thresholds.\n",
      "  warnings.warn(\n",
      " |##############                  | test | EPOCH 0: [10/24] | eta:37 | total_loss: 0.4083 | f1: 0.7320|acc: 0.8594|sen: 0.6966|spec: 0.9215|auroc: 0.8413|prauc: 0.8711|iou: 0.6240|dice: 0.7320/home/heon/anaconda3/envs/cosas/lib/python3.11/site-packages/sklearn/metrics/_classification.py:1531: UndefinedMetricWarning: Recall is ill-defined and being set to 0.0 due to no true samples. Use `zero_division` parameter to control this behavior.\n",
      "  _warn_prf(average, modifier, f\"{metric.capitalize()} is\", len(result))\n",
      "/home/heon/anaconda3/envs/cosas/lib/python3.11/site-packages/sklearn/metrics/_ranking.py:1030: UserWarning: No positive class found in y_true, recall is set to one for all thresholds.\n",
      "  warnings.warn(\n",
      " |#########################       | test | EPOCH 0: [18/24] | eta:18 | total_loss: 0.3854 | f1: 0.7175|acc: 0.8684|sen: 0.6895|spec: 0.9185|auroc: 0.8270|prauc: 0.8572|iou: 0.6097|dice: 0.7175/home/heon/anaconda3/envs/cosas/lib/python3.11/site-packages/sklearn/metrics/_classification.py:1531: UndefinedMetricWarning: Recall is ill-defined and being set to 0.0 due to no true samples. Use `zero_division` parameter to control this behavior.\n",
      "  _warn_prf(average, modifier, f\"{metric.capitalize()} is\", len(result))\n",
      "/home/heon/anaconda3/envs/cosas/lib/python3.11/site-packages/sklearn/metrics/_ranking.py:1030: UserWarning: No positive class found in y_true, recall is set to one for all thresholds.\n",
      "  warnings.warn(\n",
      " |##############################  | test | EPOCH 0: [22/24] | eta:7 | total_loss: 0.3917 | f1: 0.7002|acc: 0.8652|sen: 0.6664|spec: 0.9246|auroc: 0.8047|prauc: 0.8550|iou: 0.5969|dice: 0.7002 /home/heon/anaconda3/envs/cosas/lib/python3.11/site-packages/sklearn/metrics/_classification.py:1531: UndefinedMetricWarning: Recall is ill-defined and being set to 0.0 due to no true samples. Use `zero_division` parameter to control this behavior.\n",
      "  _warn_prf(average, modifier, f\"{metric.capitalize()} is\", len(result))\n",
      "/home/heon/anaconda3/envs/cosas/lib/python3.11/site-packages/sklearn/metrics/_ranking.py:1030: UserWarning: No positive class found in y_true, recall is set to one for all thresholds.\n",
      "  warnings.warn(\n",
      " |################################| test | EPOCH 0: [23/24] | eta:3 | total_loss: 0.3765 | f1: 0.6710|acc: 0.8705|sen: 0.6386|spec: 0.9274|auroc: 0.7712|prauc: 0.8402|iou: 0.5720|dice: 0.6710 \n",
      "\u001b[?25h"
     ]
    }
   ],
   "source": [
    "import torch\n",
    "from torch.utils.data import DataLoader\n",
    "from cosas.metrics import calculate_metrics, Metrics, AverageMeter\n",
    "from cosas.trainer import BinaryClassifierTrainer\n",
    "from cosas.tracking import TRACKING_URI, get_experiment\n",
    "\n",
    "train_transform = A.Compose(\n",
    "        [\n",
    "            A.RandomCrop(height=224, width=224, p=1),\n",
    "            A.HorizontalFlip(p=0.5),\n",
    "            A.VerticalFlip(p=0.5),\n",
    "            # TODO: RandomRotation90 추가\n",
    "            A.Normalize(mean=(0.485, 0.456, 0.406), std=(0.229, 0.224, 0.225)),\n",
    "            ToTensorV2(),\n",
    "        ]\n",
    "    )\n",
    "\n",
    "train_dataset = Patchdataset(train_images, train_masks, train_transform)\n",
    "train_dataloader = DataLoader(\n",
    "    train_dataset,\n",
    "    batch_size=4,\n",
    ")\n",
    "\n",
    "test_transform = A.Compose(\n",
    "    [\n",
    "        A.Normalize(mean=(0.485, 0.456, 0.406), std=(0.229, 0.224, 0.225)),\n",
    "        ToTensorV2(),\n",
    "    ]\n",
    ")\n",
    "val_dataset = WholeSizeDataset(val_images, val_masks, test_transform)\n",
    "num_epochs = 2\n",
    "n_steps = len(train_dataloader)\n",
    "trainer = BinaryClassifierTrainer(\n",
    "    model, \n",
    "    torch.nn.functional.binary_cross_entropy_with_logits, \n",
    "    optimizer = torch.optim.Adam(model.parameters(), lr=0.001)\n",
    ")\n",
    "\n",
    "mlflow.set_tracking_uri(TRACKING_URI)\n",
    "experiment = get_experiment(\"cosas\")\n",
    "\n",
    "with mlflow.start_run(experiment_id=experiment.experiment_id, run_name=\"test_run\") as run:\n",
    "    trainer.train(\n",
    "        train_dataloader,\n",
    "        val_dataset,\n",
    "        1,\n",
    "        7,\n",
    "    )\n",
    "    mlflow.pytorch.log_model(trainer.model, \"model\")\n",
    "    \n",
    "\n",
    "    test_loss, test_metrics = trainer.test(WholeSizeDataset(test_images, test_masks, test_transform), phase=\"test\")\n",
    "    mlflow.log_metric(\"test_loss\", test_loss.avg)\n",
    "    mlflow.log_metrics(test_metrics.to_dict(prefix=\"test_\"))    "
   ]
  }
 ],
 "metadata": {
  "kernelspec": {
   "display_name": "cosas",
   "language": "python",
   "name": "python3"
  },
  "language_info": {
   "codemirror_mode": {
    "name": "ipython",
    "version": 3
   },
   "file_extension": ".py",
   "mimetype": "text/x-python",
   "name": "python",
   "nbconvert_exporter": "python",
   "pygments_lexer": "ipython3",
   "version": "3.11.9"
  }
 },
 "nbformat": 4,
 "nbformat_minor": 2
}
