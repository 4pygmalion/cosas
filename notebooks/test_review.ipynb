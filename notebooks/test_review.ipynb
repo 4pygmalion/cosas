{
 "cells": [
  {
   "cell_type": "code",
   "execution_count": null,
   "metadata": {},
   "outputs": [],
   "source": [
    "import mlflow\n",
    "\n",
    "from cosas.tracking import TRACKING_URI\n",
    "mlflow.set_tracking_uri(TRACKING_URI)\n",
    "mlflow.pytorch.log_model"
   ]
  }
 ],
 "metadata": {
  "language_info": {
   "name": "python"
  }
 },
 "nbformat": 4,
 "nbformat_minor": 2
}
