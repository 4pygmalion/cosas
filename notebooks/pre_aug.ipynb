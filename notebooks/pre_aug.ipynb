{
 "cells": [
  {
   "cell_type": "code",
   "execution_count": 1,
   "metadata": {},
   "outputs": [],
   "source": [
    "%load_ext autoreload\n",
    "%autoreload 2"
   ]
  },
  {
   "cell_type": "code",
   "execution_count": 2,
   "metadata": {},
   "outputs": [
    {
     "data": {
      "text/plain": [
       "COSASData(\n",
       "  data_dir=/vast/AI_team/dataset/COSAS24-TrainingSet/task2,\n",
       "  kfbio=ScannerData(data_dir=/vast/AI_team/dataset/COSAS24-TrainingSet/task2/kfbio-400, N images=60, N mask=60\n",
       "  ddd=ScannerData(data_dir=/vast/AI_team/dataset/COSAS24-TrainingSet/task2/3d-1000, N images=60, N mask=60\n",
       "  teksqray=ScannerData(data_dir=/vast/AI_team/dataset/COSAS24-TrainingSet/task2/teksqray-600p, N images=60, N mask=60\n",
       "  image(n=180)\n",
       ")"
      ]
     },
     "execution_count": 2,
     "metadata": {},
     "output_type": "execute_result"
    }
   ],
   "source": [
    "import os\n",
    "from cosas.paths import DATA_DIR\n",
    "from cosas.data_model import COSASData\n",
    "from cosas.datasets import MultiScaleDataset\n",
    "\n",
    "cosas_data = COSASData(os.path.join(DATA_DIR, \"task2\"))\n",
    "cosas_data.load()"
   ]
  },
  {
   "cell_type": "code",
   "execution_count": 8,
   "metadata": {},
   "outputs": [
    {
     "name": "stderr",
     "output_type": "stream",
     "text": [
      "Pre-augmentation: 0it [00:00, ?it/s]"
     ]
    },
    {
     "name": "stderr",
     "output_type": "stream",
     "text": [
      "Pre-augmentation: 180it [00:00, 927.56it/s]\n",
      "Pre-augmentation: 180it [00:00, 1318.08it/s]\n",
      "Pre-augmentation: 180it [00:00, 1639.81it/s]\n",
      "Pre-augmentation: 180it [00:00, 1700.39it/s]\n",
      "Pre-augmentation: 180it [00:00, 1753.65it/s]\n"
     ]
    },
    {
     "ename": "TypeError",
     "evalue": "tuple indices must be integers or slices, not str",
     "output_type": "error",
     "traceback": [
      "\u001b[0;31m---------------------------------------------------------------------------\u001b[0m",
      "\u001b[0;31mTypeError\u001b[0m                                 Traceback (most recent call last)",
      "Cell \u001b[0;32mIn[8], line 12\u001b[0m\n\u001b[1;32m     10\u001b[0m     idx \u001b[38;5;241m=\u001b[39m random\u001b[38;5;241m.\u001b[39mrandint(\u001b[38;5;241m0\u001b[39m, \u001b[38;5;28mlen\u001b[39m(dataset))\n\u001b[1;32m     11\u001b[0m     aug \u001b[38;5;241m=\u001b[39m dataset[idx]\n\u001b[0;32m---> 12\u001b[0m     axes[\u001b[38;5;241m0\u001b[39m, _]\u001b[38;5;241m.\u001b[39mimshow(\u001b[43maug\u001b[49m\u001b[43m[\u001b[49m\u001b[38;5;124;43m\"\u001b[39;49m\u001b[38;5;124;43mimage\u001b[39;49m\u001b[38;5;124;43m\"\u001b[39;49m\u001b[43m]\u001b[49m)\n\u001b[1;32m     13\u001b[0m     axes[\u001b[38;5;241m1\u001b[39m, _]\u001b[38;5;241m.\u001b[39mimshow(aug[\u001b[38;5;124m\"\u001b[39m\u001b[38;5;124mmask\u001b[39m\u001b[38;5;124m\"\u001b[39m])\n\u001b[1;32m     15\u001b[0m plt\u001b[38;5;241m.\u001b[39mtight_layout()\n",
      "\u001b[0;31mTypeError\u001b[0m: tuple indices must be integers or slices, not str"
     ]
    },
    {
     "data": {
      "image/png": "[encoded data removed]",
      "text/plain": [
       "<Figure size 1000x500 with 10 Axes>"
      ]
     },
     "metadata": {},
     "output_type": "display_data"
    }
   ],
   "source": [
    "import random\n",
    "import albumentations as A\n",
    "from matplotlib import pyplot as plt\n",
    "from cosas.datasets import MultiScaleDataset\n",
    "\n",
    "dataset = MultiScaleDataset(cosas_data.images, cosas_data.masks)\n",
    "fig, axes = plt.subplots(2, 5, figsize=(10, 5))\n",
    "\n",
    "for _ in range(5):\n",
    "    idx = random.randint(0, len(dataset))\n",
    "    image, mask = dataset[idx]\n",
    "    axes[0, _].imshow(aug[\"image\"])\n",
    "    axes[1, _].imshow(aug[\"mask\"])\n",
    "    \n",
    "plt.tight_layout()"
   ]
  },
  {
   "cell_type": "code",
   "execution_count": 4,
   "metadata": {},
   "outputs": [
    {
     "name": "stderr",
     "output_type": "stream",
     "text": [
      "Pre-augmentation: 180it [00:00, 1325.97it/s]\n",
      "Pre-augmentation: 180it [00:00, 1438.77it/s]\n",
      "Pre-augmentation: 180it [00:00, 1679.84it/s]\n",
      "Pre-augmentation: 180it [00:00, 1697.93it/s]\n",
      "Pre-augmentation: 180it [00:00, 1695.59it/s]\n",
      "Pre-augmentation: 180it [00:00, 1557.41it/s]\n",
      "Pre-augmentation: 180it [00:00, 1501.99it/s]\n",
      "Pre-augmentation: 180it [00:00, 1464.28it/s]\n",
      "Pre-augmentation: 180it [00:00, 925.63it/s] \n",
      "Pre-augmentation: 180it [00:00, 963.12it/s] \n"
     ]
    }
   ],
   "source": [
    "dataset = PreAugDataset(cosas_data.images, cosas_data.masks, multiple=10)\n"
   ]
  }
 ],
 "metadata": {
  "kernelspec": {
   "display_name": "cosas",
   "language": "python",
   "name": "python3"
  },
  "language_info": {
   "codemirror_mode": {
    "name": "ipython",
    "version": 3
   },
   "file_extension": ".py",
   "mimetype": "text/x-python",
   "name": "python",
   "nbconvert_exporter": "python",
   "pygments_lexer": "ipython3",
   "version": "3.11.9"
  }
 },
 "nbformat": 4,
 "nbformat_minor": 2
}
